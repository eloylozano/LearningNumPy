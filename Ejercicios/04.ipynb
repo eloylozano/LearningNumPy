{
 "cells": [
  {
   "cell_type": "markdown",
   "id": "82c0770d",
   "metadata": {},
   "source": [
    "# Mascaras\n"
   ]
  },
  {
   "cell_type": "code",
   "execution_count": 1,
   "id": "1476baa6",
   "metadata": {},
   "outputs": [],
   "source": [
    "import numpy as np\n",
    "import numpy.ma as ma"
   ]
  },
  {
   "cell_type": "code",
   "execution_count": null,
   "id": "9d8533a8",
   "metadata": {},
   "outputs": [
    {
     "data": {
      "text/plain": [
       "array([ 1,  2,  3, -1,  4])"
      ]
     },
     "execution_count": 3,
     "metadata": {},
     "output_type": "execute_result"
    }
   ],
   "source": [
    "x = np.array([1, 2, 3, -1, 4])\n",
    "x"
   ]
  },
  {
   "cell_type": "code",
   "execution_count": null,
   "id": "1d302749",
   "metadata": {},
   "outputs": [
    {
     "data": {
      "text/plain": [
       "masked_array(data=[1, 2, 3, --, 4],\n",
       "             mask=[False, False, False,  True, False],\n",
       "       fill_value=999999)"
      ]
     },
     "execution_count": 6,
     "metadata": {},
     "output_type": "execute_result"
    }
   ],
   "source": [
    "mask_array = ma.masked_array(x, mask=[0, 0, 0, 1, 0])\n",
    "mask_array"
   ]
  },
  {
   "cell_type": "code",
   "execution_count": 9,
   "id": "aad86dd5",
   "metadata": {},
   "outputs": [
    {
     "data": {
      "text/plain": [
       "np.int64(1)"
      ]
     },
     "execution_count": 9,
     "metadata": {},
     "output_type": "execute_result"
    }
   ],
   "source": [
    "mask_array.min()"
   ]
  },
  {
   "cell_type": "code",
   "execution_count": null,
   "id": "63de9dfb",
   "metadata": {},
   "outputs": [
    {
     "data": {
      "text/plain": [
       "masked_array(data=[1, 2, 3, --, 4],\n",
       "             mask=[False, False, False,  True, False],\n",
       "       fill_value=999999)"
      ]
     },
     "execution_count": 12,
     "metadata": {},
     "output_type": "execute_result"
    }
   ],
   "source": [
    "x = ma.array([1, 2, 3, -1, 4], mask=[0, 0, 0, 1, 0])\n",
    "x"
   ]
  },
  {
   "cell_type": "code",
   "execution_count": 15,
   "id": "92da0d05",
   "metadata": {},
   "outputs": [
    {
     "data": {
      "text/plain": [
       "array([1, 2, 3, 4])"
      ]
     },
     "execution_count": 15,
     "metadata": {},
     "output_type": "execute_result"
    }
   ],
   "source": [
    "x.compressed()"
   ]
  },
  {
   "cell_type": "code",
   "execution_count": 18,
   "id": "dd700af7",
   "metadata": {},
   "outputs": [
    {
     "data": {
      "text/plain": [
       "masked_array(data=[--, --, --, --, --],\n",
       "             mask=[ True,  True,  True,  True,  True],\n",
       "       fill_value=999999,\n",
       "            dtype=int64)"
      ]
     },
     "execution_count": 18,
     "metadata": {},
     "output_type": "execute_result"
    }
   ],
   "source": [
    "x.mask = True\n",
    "x"
   ]
  },
  {
   "cell_type": "code",
   "execution_count": 21,
   "id": "dd04bc14",
   "metadata": {},
   "outputs": [
    {
     "data": {
      "text/plain": [
       "masked_array(data=[1, 2, 3, -1, 4],\n",
       "             mask=[False, False, False, False, False],\n",
       "       fill_value=999999)"
      ]
     },
     "execution_count": 21,
     "metadata": {},
     "output_type": "execute_result"
    }
   ],
   "source": [
    "x.mask = False\n",
    "x"
   ]
  },
  {
   "cell_type": "code",
   "execution_count": null,
   "id": "c2a064b7",
   "metadata": {},
   "outputs": [
    {
     "data": {
      "text/plain": [
       "masked_array(data=[1, 2, 3, --, 4],\n",
       "             mask=[False, False, False,  True, False],\n",
       "       fill_value=999999)"
      ]
     },
     "execution_count": 29,
     "metadata": {},
     "output_type": "execute_result"
    }
   ],
   "source": [
    "x.mask = [0, 0, 0, 1, 0]\n",
    "x"
   ]
  },
  {
   "cell_type": "code",
   "execution_count": 31,
   "id": "957b17d7",
   "metadata": {},
   "outputs": [
    {
     "data": {
      "text/plain": [
       "True"
      ]
     },
     "execution_count": 31,
     "metadata": {},
     "output_type": "execute_result"
    }
   ],
   "source": [
    "x[3] is ma.masked"
   ]
  },
  {
   "cell_type": "code",
   "execution_count": 32,
   "id": "4ce6cf5c",
   "metadata": {},
   "outputs": [
    {
     "data": {
      "text/plain": [
       "array([1, 2, 3, 0, 4])"
      ]
     },
     "execution_count": 32,
     "metadata": {},
     "output_type": "execute_result"
    }
   ],
   "source": [
    "x.filled(0)"
   ]
  },
  {
   "cell_type": "code",
   "execution_count": 36,
   "id": "e5a9d2b2",
   "metadata": {},
   "outputs": [],
   "source": [
    "x = np.array([1, 2, 3, -1, 4])"
   ]
  },
  {
   "cell_type": "code",
   "execution_count": null,
   "id": "b83e4e3d",
   "metadata": {},
   "outputs": [
    {
     "data": {
      "text/plain": [
       "masked_array(data=[1, 2, 3, -1, --],\n",
       "             mask=[False, False, False, False,  True],\n",
       "       fill_value=4)"
      ]
     },
     "execution_count": 38,
     "metadata": {},
     "output_type": "execute_result"
    }
   ],
   "source": [
    "ma.masked_equal(x, 4)"
   ]
  },
  {
   "cell_type": "code",
   "execution_count": null,
   "id": "c650bab8",
   "metadata": {},
   "outputs": [
    {
     "data": {
      "text/plain": [
       "masked_array(data=[--, 2, --, --, --],\n",
       "             mask=[ True, False,  True,  True,  True],\n",
       "       fill_value=999999)"
      ]
     },
     "execution_count": 41,
     "metadata": {},
     "output_type": "execute_result"
    }
   ],
   "source": [
    "ma.masked_not_equal(x, 2)"
   ]
  },
  {
   "cell_type": "code",
   "execution_count": 43,
   "id": "dbf2f7d0",
   "metadata": {},
   "outputs": [
    {
     "data": {
      "text/plain": [
       "masked_array(data=[--, 2, 3, --, 4],\n",
       "             mask=[ True, False, False,  True, False],\n",
       "       fill_value=999999)"
      ]
     },
     "execution_count": 43,
     "metadata": {},
     "output_type": "execute_result"
    }
   ],
   "source": [
    "ma.masked_where(x < 2, x)"
   ]
  },
  {
   "cell_type": "code",
   "execution_count": 45,
   "id": "ceec3c3f",
   "metadata": {},
   "outputs": [
    {
     "data": {
      "text/plain": [
       "masked_array(data=[1, --, --, -1, --],\n",
       "             mask=[False,  True,  True, False,  True],\n",
       "       fill_value=999999)"
      ]
     },
     "execution_count": 45,
     "metadata": {},
     "output_type": "execute_result"
    }
   ],
   "source": [
    "ma.masked_greater_equal(x, 2)"
   ]
  },
  {
   "cell_type": "code",
   "execution_count": 47,
   "id": "379cf2bc",
   "metadata": {},
   "outputs": [
    {
     "data": {
      "text/plain": [
       "masked_array(data=[--, --, 3, --, 4],\n",
       "             mask=[ True,  True, False,  True, False],\n",
       "       fill_value=999999)"
      ]
     },
     "execution_count": 47,
     "metadata": {},
     "output_type": "execute_result"
    }
   ],
   "source": [
    "ma.masked_less_equal(x, 2)"
   ]
  },
  {
   "cell_type": "code",
   "execution_count": 48,
   "id": "500a97f9",
   "metadata": {},
   "outputs": [
    {
     "data": {
      "text/plain": [
       "masked_array(data=[--, --, --, -1, 4],\n",
       "             mask=[ True,  True,  True, False, False],\n",
       "       fill_value=999999)"
      ]
     },
     "execution_count": 48,
     "metadata": {},
     "output_type": "execute_result"
    }
   ],
   "source": [
    "ma.masked_inside(x, 1, 3)"
   ]
  }
 ],
 "metadata": {
  "kernelspec": {
   "display_name": ".venv",
   "language": "python",
   "name": "python3"
  },
  "language_info": {
   "codemirror_mode": {
    "name": "ipython",
    "version": 3
   },
   "file_extension": ".py",
   "mimetype": "text/x-python",
   "name": "python",
   "nbconvert_exporter": "python",
   "pygments_lexer": "ipython3",
   "version": "3.13.2"
  }
 },
 "nbformat": 4,
 "nbformat_minor": 5
}
