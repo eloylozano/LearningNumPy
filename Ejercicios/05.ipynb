{
 "cells": [
  {
   "cell_type": "markdown",
   "id": "837b4065",
   "metadata": {},
   "source": [
    "## Trabajando con fechas"
   ]
  },
  {
   "cell_type": "code",
   "execution_count": 2,
   "id": "7a76ad2c",
   "metadata": {},
   "outputs": [],
   "source": [
    "import numpy as np"
   ]
  },
  {
   "cell_type": "code",
   "execution_count": 7,
   "id": "e94dc698",
   "metadata": {},
   "outputs": [
    {
     "data": {
      "text/plain": [
       "np.datetime64('2020-09-01')"
      ]
     },
     "execution_count": 7,
     "metadata": {},
     "output_type": "execute_result"
    }
   ],
   "source": [
    "d = np.datetime64('2020-09-01') \n",
    "d"
   ]
  },
  {
   "cell_type": "code",
   "execution_count": 9,
   "id": "05c6a3ee",
   "metadata": {},
   "outputs": [
    {
     "data": {
      "text/plain": [
       "np.datetime64('2020-09-01T14:30')"
      ]
     },
     "execution_count": 9,
     "metadata": {},
     "output_type": "execute_result"
    }
   ],
   "source": [
    "dh = np.datetime64('2020-09-01T14:30')\n",
    "dh"
   ]
  },
  {
   "cell_type": "markdown",
   "id": "35f0d1f8",
   "metadata": {},
   "source": [
    "### Array fechas\n"
   ]
  },
  {
   "cell_type": "code",
   "execution_count": 12,
   "id": "7b670a2a",
   "metadata": {},
   "outputs": [
    {
     "data": {
      "text/plain": [
       "array(['2020-07-01', '2025-01-08', '2023-12-23'], dtype='<U10')"
      ]
     },
     "execution_count": 12,
     "metadata": {},
     "output_type": "execute_result"
    }
   ],
   "source": [
    "np.array(['2020-07-01', '2025-01-08', '2023-12-23'])"
   ]
  },
  {
   "cell_type": "code",
   "execution_count": 14,
   "id": "2b3ccd11",
   "metadata": {},
   "outputs": [
    {
     "data": {
      "text/plain": [
       "array(['2020-07-01', '2025-01-08', '2023-12-23'], dtype='datetime64[D]')"
      ]
     },
     "execution_count": 14,
     "metadata": {},
     "output_type": "execute_result"
    }
   ],
   "source": [
    "np.array(['2020-07-01', '2025-01-08', '2023-12-23'], dtype= 'datetime64')"
   ]
  },
  {
   "cell_type": "code",
   "execution_count": 17,
   "id": "35389c1f",
   "metadata": {},
   "outputs": [
    {
     "data": {
      "text/plain": [
       "array(['2024-08-01', '2024-08-08', '2024-08-15', '2024-08-22',\n",
       "       '2024-08-29', '2024-09-05', '2024-09-12', '2024-09-19',\n",
       "       '2024-09-26', '2024-10-03', '2024-10-10', '2024-10-17',\n",
       "       '2024-10-24', '2024-10-31', '2024-11-07', '2024-11-14',\n",
       "       '2024-11-21', '2024-11-28', '2024-12-05', '2024-12-12',\n",
       "       '2024-12-19', '2024-12-26', '2025-01-02', '2025-01-09',\n",
       "       '2025-01-16', '2025-01-23', '2025-01-30', '2025-02-06',\n",
       "       '2025-02-13', '2025-02-20'], dtype='datetime64[W]')"
      ]
     },
     "execution_count": 17,
     "metadata": {},
     "output_type": "execute_result"
    }
   ],
   "source": [
    "np.arange('2024-08','2025-03', dtype='datetime64[W]')"
   ]
  },
  {
   "cell_type": "markdown",
   "id": "936902f6",
   "metadata": {},
   "source": [
    "### Comparaciones"
   ]
  },
  {
   "cell_type": "code",
   "execution_count": 19,
   "id": "0edd3728",
   "metadata": {},
   "outputs": [
    {
     "data": {
      "text/plain": [
       "np.True_"
      ]
     },
     "execution_count": 19,
     "metadata": {},
     "output_type": "execute_result"
    }
   ],
   "source": [
    "np.datetime64('2020') == np.datetime64('2020-01-01')"
   ]
  },
  {
   "cell_type": "code",
   "execution_count": 20,
   "id": "1e9bc612",
   "metadata": {},
   "outputs": [
    {
     "data": {
      "text/plain": [
       "np.False_"
      ]
     },
     "execution_count": 20,
     "metadata": {},
     "output_type": "execute_result"
    }
   ],
   "source": [
    "np.datetime64('2020-03-14T11') == np.datetime64('2020-03-14T11:00:10.00')"
   ]
  },
  {
   "cell_type": "markdown",
   "id": "8fcdd533",
   "metadata": {},
   "source": [
    "### Operaciones con fechas"
   ]
  },
  {
   "cell_type": "code",
   "execution_count": 22,
   "id": "11155945",
   "metadata": {},
   "outputs": [
    {
     "data": {
      "text/plain": [
       "np.timedelta64(4,'D')"
      ]
     },
     "execution_count": 22,
     "metadata": {},
     "output_type": "execute_result"
    }
   ],
   "source": [
    "np.timedelta64(4, 'D')"
   ]
  },
  {
   "cell_type": "code",
   "execution_count": 23,
   "id": "50b8f18a",
   "metadata": {},
   "outputs": [
    {
     "data": {
      "text/plain": [
       "np.timedelta64(10,'h')"
      ]
     },
     "execution_count": 23,
     "metadata": {},
     "output_type": "execute_result"
    }
   ],
   "source": [
    "np.timedelta64(10, 'h')"
   ]
  },
  {
   "cell_type": "code",
   "execution_count": 31,
   "id": "7f03f1b8",
   "metadata": {},
   "outputs": [
    {
     "data": {
      "text/plain": [
       "np.timedelta64(1,'W')"
      ]
     },
     "execution_count": 31,
     "metadata": {},
     "output_type": "execute_result"
    }
   ],
   "source": [
    "a = np.timedelta64(8, 'D')\n",
    "np.timedelta64(a, 'W')"
   ]
  },
  {
   "cell_type": "code",
   "execution_count": 34,
   "id": "901e7307",
   "metadata": {},
   "outputs": [
    {
     "data": {
      "text/plain": [
       "np.timedelta64(31,'D')"
      ]
     },
     "execution_count": 34,
     "metadata": {},
     "output_type": "execute_result"
    }
   ],
   "source": [
    "np.datetime64('2020-08-01') - np.datetime64('2020-07-01')"
   ]
  },
  {
   "cell_type": "code",
   "execution_count": 37,
   "id": "4b826be8",
   "metadata": {},
   "outputs": [
    {
     "data": {
      "text/plain": [
       "np.timedelta64(11,'D')"
      ]
     },
     "execution_count": 37,
     "metadata": {},
     "output_type": "execute_result"
    }
   ],
   "source": [
    "np.timedelta64(1, 'W') + np.timedelta64(4, 'D')"
   ]
  },
  {
   "cell_type": "code",
   "execution_count": 42,
   "id": "2d5f47d0",
   "metadata": {},
   "outputs": [
    {
     "data": {
      "text/plain": [
       "np.timedelta64(7,'D')"
      ]
     },
     "execution_count": 42,
     "metadata": {},
     "output_type": "execute_result"
    }
   ],
   "source": [
    "a = np.timedelta64(1, 'W')\n",
    "np.timedelta64(a, 'D')"
   ]
  },
  {
   "cell_type": "markdown",
   "id": "e053fbc8",
   "metadata": {},
   "source": [
    "### Dias laborables\n"
   ]
  },
  {
   "cell_type": "code",
   "execution_count": 46,
   "id": "1bf15008",
   "metadata": {},
   "outputs": [
    {
     "data": {
      "text/plain": [
       "np.datetime64('2020-09-07')"
      ]
     },
     "execution_count": 46,
     "metadata": {},
     "output_type": "execute_result"
    }
   ],
   "source": [
    "np.busday_offset('2020-09-03', 2)"
   ]
  },
  {
   "cell_type": "code",
   "execution_count": 53,
   "id": "4710d787",
   "metadata": {},
   "outputs": [
    {
     "data": {
      "text/plain": [
       "np.datetime64('2020-09-04')"
      ]
     },
     "execution_count": 53,
     "metadata": {},
     "output_type": "execute_result"
    }
   ],
   "source": [
    "np.busday_offset('2020-09-05', 0,roll = 'backward')"
   ]
  },
  {
   "cell_type": "code",
   "execution_count": 55,
   "id": "ad46cf7c",
   "metadata": {},
   "outputs": [
    {
     "data": {
      "text/plain": [
       "np.False_"
      ]
     },
     "execution_count": 55,
     "metadata": {},
     "output_type": "execute_result"
    }
   ],
   "source": [
    "np.is_busday(np.datetime64('2020-09-05'))"
   ]
  },
  {
   "cell_type": "code",
   "execution_count": 57,
   "id": "6e16ed52",
   "metadata": {},
   "outputs": [
    {
     "data": {
      "text/plain": [
       "np.int64(21)"
      ]
     },
     "execution_count": 57,
     "metadata": {},
     "output_type": "execute_result"
    }
   ],
   "source": [
    "np.busday_count(np.datetime64('2020-09-01'), np.datetime64('2020-09-30'))\n"
   ]
  }
 ],
 "metadata": {
  "kernelspec": {
   "display_name": ".venv",
   "language": "python",
   "name": "python3"
  },
  "language_info": {
   "codemirror_mode": {
    "name": "ipython",
    "version": 3
   },
   "file_extension": ".py",
   "mimetype": "text/x-python",
   "name": "python",
   "nbconvert_exporter": "python",
   "pygments_lexer": "ipython3",
   "version": "3.13.2"
  }
 },
 "nbformat": 4,
 "nbformat_minor": 5
}
